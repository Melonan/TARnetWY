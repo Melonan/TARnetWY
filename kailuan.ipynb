{
 "cells": [
  {
   "cell_type": "code",
   "execution_count": 7,
   "metadata": {},
   "outputs": [
    {
     "name": "stdout",
     "output_type": "stream",
     "text": [
      "tensor([[[ 30.3290, -16.1564],\n",
      "         [-13.0467,  -3.1977],\n",
      "         [ 18.3903, -45.1024],\n",
      "         [-25.3257, -10.4570],\n",
      "         [  4.7485,   3.1183],\n",
      "         [ -0.4047, -22.6060],\n",
      "         [-16.4971,   1.7927]],\n",
      "\n",
      "        [[-17.7500,  -2.2375],\n",
      "         [  8.8722,  17.2850],\n",
      "         [ 10.8726,  12.5430],\n",
      "         [  8.3509, -10.7708],\n",
      "         [ 23.3328, -17.4307],\n",
      "         [-19.3110, -26.9061],\n",
      "         [  6.1153,  33.5117]],\n",
      "\n",
      "        [[-38.5411, -19.1678],\n",
      "         [ 21.0413, -12.1367],\n",
      "         [ 12.2750,  28.4303],\n",
      "         [-10.4217, -20.9771],\n",
      "         [-18.2784,  21.8331],\n",
      "         [ 27.0344,  10.6377],\n",
      "         [ 29.0488,   1.3745]]])\n",
      "tensor([[[ 1.9356, -0.2634],\n",
      "         [-1.2012, -0.4702],\n",
      "         [ 0.5126, -2.1650],\n",
      "         [-1.2914,  0.1076],\n",
      "         [ 0.1125,  0.0140],\n",
      "         [ 0.2487, -0.8887],\n",
      "         [-1.4971, -0.4326]],\n",
      "\n",
      "        [[-0.3388,  0.3950],\n",
      "         [ 0.4258,  1.0502],\n",
      "         [ 0.1956,  0.2660],\n",
      "         [ 1.8772,  0.0780],\n",
      "         [ 1.2362, -1.2285],\n",
      "         [-0.7199, -1.1090],\n",
      "         [-0.1810,  1.4137]],\n",
      "\n",
      "        [[-1.3224, -0.4059],\n",
      "         [ 1.3291, -1.1337],\n",
      "         [ 0.2547,  0.9360],\n",
      "         [ 0.1109, -0.8823],\n",
      "         [-1.2797,  1.1455],\n",
      "         [ 1.6544,  0.8144],\n",
      "         [ 1.1539, -0.4569]]], grad_fn=<NativeBatchNormBackward0>)\n"
     ]
    }
   ],
   "source": [
    "import torch\n",
    "import torch.nn as nn\n",
    "import math\n",
    "\n",
    "m = nn.BatchNorm1d(7)\n",
    "input = torch.randn(3, 7,2)*20\n",
    "print(input)\n",
    "output = m(input)\n",
    "print(output)"
   ]
  },
  {
   "cell_type": "code",
   "execution_count": 8,
   "metadata": {},
   "outputs": [
    {
     "data": {
      "text/plain": [
       "torch.Size([10, 20])"
      ]
     },
     "execution_count": 8,
     "metadata": {},
     "output_type": "execute_result"
    }
   ],
   "source": [
    "instance_weights = torch.as_tensor(torch.rand(10, 20), device = 'cuda')\n",
    "instance_weights.shape"
   ]
  },
  {
   "cell_type": "code",
   "execution_count": 9,
   "metadata": {},
   "outputs": [
    {
     "data": {
      "text/plain": [
       "(array([[0.46101799, 0.50614888],\n",
       "        [0.2327638 , 0.51958237]]),\n",
       " array([0.46101799, 0.2327638 ]))"
      ]
     },
     "execution_count": 9,
     "metadata": {},
     "output_type": "execute_result"
    }
   ],
   "source": [
    "import numpy as np\n",
    "\n",
    "val,idx = instance_weights.topk(int(math.ceil(0.2*20)))\n",
    "val\n",
    "\n",
    "nomask = np.random.random([2,2])\n",
    "indices = [[True,False],[True,False]]\n",
    "\n",
    "nomask,nomask[indices]"
   ]
  },
  {
   "cell_type": "code",
   "execution_count": 11,
   "metadata": {},
   "outputs": [
    {
     "data": {
      "text/plain": [
       "array([], dtype=float64)"
      ]
     },
     "execution_count": 11,
     "metadata": {},
     "output_type": "execute_result"
    }
   ],
   "source": [
    "y = np.random.uniform(1,10,20)\n",
    "y[21:24]"
   ]
  },
  {
   "cell_type": "code",
   "execution_count": null,
   "metadata": {},
   "outputs": [],
   "source": []
  }
 ],
 "metadata": {
  "kernelspec": {
   "display_name": "g2",
   "language": "python",
   "name": "python3"
  },
  "language_info": {
   "codemirror_mode": {
    "name": "ipython",
    "version": 3
   },
   "file_extension": ".py",
   "mimetype": "text/x-python",
   "name": "python",
   "nbconvert_exporter": "python",
   "pygments_lexer": "ipython3",
   "version": "3.8.18"
  }
 },
 "nbformat": 4,
 "nbformat_minor": 2
}
